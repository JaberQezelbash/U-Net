{
 "cells": [
  {
   "cell_type": "markdown",
   "id": "aa1784e6-16ca-450c-964b-86322bae4780",
   "metadata": {},
   "source": [
    "### U-Net architecture!"
   ]
  },
  {
   "cell_type": "code",
   "execution_count": null,
   "id": "6451e7e0-f83f-415d-9ee7-fc3336e6df82",
   "metadata": {},
   "outputs": [],
   "source": [
    "#pip install tensorflow"
   ]
  },
  {
   "cell_type": "code",
   "execution_count": null,
   "id": "3de9b59b-0837-4e7c-863d-0c56a90d3e2e",
   "metadata": {},
   "outputs": [],
   "source": [
    "import tensorflow as tf\n",
    "from tensorflow.keras.layers import Input, Conv2D, MaxPooling2D, UpSampling2D, concatenate, Conv2DTranspose\n",
    "from tensorflow.keras.models import Model\n",
    "from tensorflow.keras.datasets import mnist\n",
    "import numpy as np\n",
    "\n",
    "# Load MNIST data\n",
    "(x_train, _), (x_test, _) = mnist.load_data()\n",
    "\n",
    "# Normalize and reshape the data\n",
    "x_train = np.expand_dims(x_train, axis=-1) / 255.\n",
    "x_test = np.expand_dims(x_test, axis=-1) / 255.\n",
    "\n",
    "# Create a simple binary mask\n",
    "y_train = x_train > 0.5\n",
    "y_test = x_test > 0.5\n",
    "\n",
    "# U-Net model\n",
    "def unet(input_size=(28, 28, 1)):\n",
    "    inputs = Input(input_size)\n",
    "    conv1 = Conv2D(32, 3, activation='relu', padding='same', kernel_initializer='he_normal')(inputs)\n",
    "    conv1 = Conv2D(32, 3, activation='relu', padding='same', kernel_initializer='he_normal')(conv1)\n",
    "    pool1 = MaxPooling2D(pool_size=(2, 2))(conv1)\n",
    "    \n",
    "    conv2 = Conv2D(64, 3, activation='relu', padding='same', kernel_initializer='he_normal')(pool1)\n",
    "    conv2 = Conv2D(64, 3, activation='relu', padding='same', kernel_initializer='he_normal')(conv2)\n",
    "    pool2 = MaxPooling2D(pool_size=(2, 2))(conv2)\n",
    "    \n",
    "    conv3 = Conv2D(128, 3, activation='relu', padding='same', kernel_initializer='he_normal')(pool2)\n",
    "\n",
    "    up1 = Conv2DTranspose(64, 2, strides=(2, 2), padding='same')(conv3)\n",
    "    merge1 = concatenate([conv2, up1], axis=3)\n",
    "    conv4 = Conv2D(64, 3, activation='relu', padding='same', kernel_initializer='he_normal')(merge1)\n",
    "    \n",
    "    up2 = Conv2DTranspose(32, 2, strides=(2, 2), padding='same')(conv4)\n",
    "    merge2 = concatenate([conv1, up2], axis=3)\n",
    "    conv5 = Conv2D(32, 3, activation='relu', padding='same', kernel_initializer='he_normal')(merge2)\n",
    "    \n",
    "    conv6 = Conv2D(1, 1, activation='sigmoid')(conv5)\n",
    "\n",
    "    model = Model(inputs=inputs, outputs=conv6)\n",
    "    return model\n",
    "\n",
    "# Build the model\n",
    "model = unet()\n",
    "model.compile(optimizer='adam', loss='binary_crossentropy', metrics=['accuracy'])\n",
    "\n",
    "# Train the model\n",
    "model.fit(x_train, y_train, batch_size=32, epochs=3, validation_data=(x_test, y_test))\n",
    "\n",
    "# Evaluate the model\n",
    "results = model.evaluate(x_test, y_test)\n",
    "print('Test loss, Test accuracy:', results)\n"
   ]
  },
  {
   "cell_type": "code",
   "execution_count": null,
   "id": "7a16d656-4da9-409e-a4ed-9f5dd85faf71",
   "metadata": {},
   "outputs": [],
   "source": []
  }
 ],
 "metadata": {
  "kernelspec": {
   "display_name": "Python 3 (ipykernel)",
   "language": "python",
   "name": "python3"
  },
  "language_info": {
   "codemirror_mode": {
    "name": "ipython",
    "version": 3
   },
   "file_extension": ".py",
   "mimetype": "text/x-python",
   "name": "python",
   "nbconvert_exporter": "python",
   "pygments_lexer": "ipython3",
   "version": "3.11.7"
  }
 },
 "nbformat": 4,
 "nbformat_minor": 5
}
